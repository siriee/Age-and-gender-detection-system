{
  "nbformat": 4,
  "nbformat_minor": 0,
  "metadata": {
    "colab": {
      "provenance": []
    },
    "kernelspec": {
      "name": "python3",
      "display_name": "Python 3"
    },
    "language_info": {
      "name": "python"
    }
  },
  "cells": [
    {
      "cell_type": "code",
      "source": [
        "import keras\n",
        "import json\n",
        "import sys\n",
        "import tensorflow as tf\n",
        "from keras.layers import Input\n",
        "import numpy as np\n",
        "import argparse\n",
        "from keras.utils.data_utils import get_file\n",
        "\n",
        "import numpy as np\n",
        "import pandas as pd\n",
        "import matplotlib.pyplot as plt\n",
        "import seaborn as sns\n",
        "import cv2\n",
        "from PIL import Image\n",
        "\n"
      ],
      "metadata": {
        "id": "kst6y2Mf-yFg"
      },
      "execution_count": null,
      "outputs": []
    },
    {
      "cell_type": "code",
      "source": [
        "df=pd.read_csv(\"/content/drive/MyDrive/age_gender.csv.zip\")\n",
        "print(df.head())\n",
        "print(df.columns)\n",
        "df1= pd.DataFrame(df)\n",
        "df1['pixels'] = df1.pixels.apply(lambda x: np.reshape(np.array(x.split(' '),dtype='float32'),(48,48)))\n",
        "df1['pixels']= df1['pixels']/255\n",
        "im = df1['pixels'][2]\n",
        "im\n",
        "plt.imshow(im, cmap='gray')\n",
        "plt.axis('off')"
      ],
      "metadata": {
        "colab": {
          "base_uri": "https://localhost:8080/",
          "height": 666
        },
        "id": "OrigNWtW_COM",
        "outputId": "df11b617-081e-40e1-97ec-42665e217cbf"
      },
      "execution_count": null,
      "outputs": [
        {
          "output_type": "stream",
          "name": "stdout",
          "text": [
            "   age  ethnicity  gender                        img_name  \\\n",
            "0    1          2       0  20161219203650636.jpg.chip.jpg   \n",
            "1    1          2       0  20161219222752047.jpg.chip.jpg   \n",
            "2    1          2       0  20161219222832191.jpg.chip.jpg   \n",
            "3    1          2       0  20161220144911423.jpg.chip.jpg   \n",
            "4    1          2       0  20161220144914327.jpg.chip.jpg   \n",
            "\n",
            "                                              pixels  \n",
            "0  129 128 128 126 127 130 133 135 139 142 145 14...  \n",
            "1  164 74 111 168 169 171 175 182 184 188 193 199...  \n",
            "2  67 70 71 70 69 67 70 79 90 103 116 132 145 155...  \n",
            "3  193 197 198 200 199 200 202 203 204 205 208 21...  \n",
            "4  202 205 209 210 209 209 210 211 212 214 218 21...  \n",
            "Index(['age', 'ethnicity', 'gender', 'img_name', 'pixels'], dtype='object')\n"
          ]
        },
        {
          "output_type": "execute_result",
          "data": {
            "text/plain": [
              "(-0.5, 47.5, 47.5, -0.5)"
            ]
          },
          "metadata": {},
          "execution_count": 2
        },
        {
          "output_type": "display_data",
          "data": {
            "text/plain": [
              "<Figure size 640x480 with 1 Axes>"
            ],
            "image/png": "[encoded data removed]"
          },
          "metadata": {}
        }
      ]
    },
    {
      "cell_type": "code",
      "source": [
        "X = np.zeros(shape=(23705,48,48))\n",
        "for i in range(len(df1[\"pixels\"])):\n",
        "    X[i] = df1[\"pixels\"][i]\n",
        "X.dtype\n"
      ],
      "metadata": {
        "colab": {
          "base_uri": "https://localhost:8080/"
        },
        "id": "Tn7G_AuyBMof",
        "outputId": "09f1caf2-22d0-4654-ad12-f5324d7df57d"
      },
      "execution_count": null,
      "outputs": [
        {
          "output_type": "execute_result",
          "data": {
            "text/plain": [
              "dtype('float64')"
            ]
          },
          "metadata": {},
          "execution_count": 3
        }
      ]
    },
    {
      "cell_type": "code",
      "source": [
        "#Age\n",
        "ag = df1['age']\n",
        "ag=ag.astype(float)\n",
        "ag= np.array(ag)\n",
        "ag.shape"
      ],
      "metadata": {
        "colab": {
          "base_uri": "https://localhost:8080/"
        },
        "id": "f_YAFioRBa-G",
        "outputId": "452239e8-e12d-4a52-e220-f042d44e5502"
      },
      "execution_count": null,
      "outputs": [
        {
          "output_type": "execute_result",
          "data": {
            "text/plain": [
              "(23705,)"
            ]
          },
          "metadata": {},
          "execution_count": 4
        }
      ]
    },
    {
      "cell_type": "code",
      "source": [
        "#Gender\n",
        "\n",
        "g= df1['gender']\n",
        "g=np.array(g)\n",
        "g.shape"
      ],
      "metadata": {
        "colab": {
          "base_uri": "https://localhost:8080/"
        },
        "id": "aywTvXXeBp38",
        "outputId": "d9e25f6f-bffc-4d6e-a4dd-58d4af5d95b2"
      },
      "execution_count": null,
      "outputs": [
        {
          "output_type": "execute_result",
          "data": {
            "text/plain": [
              "(23705,)"
            ]
          },
          "metadata": {},
          "execution_count": 5
        }
      ]
    },
    {
      "cell_type": "code",
      "source": [
        "labels_f =[]\n",
        "\n",
        "i=0\n",
        "\n",
        "while i <len(ag):\n",
        "\n",
        "  label=[]\n",
        "\n",
        "  label.append([ag[i]])\n",
        "\n",
        "  label.append([g[i]])\n",
        "\n",
        "  labels_f.append(label)\n",
        "\n",
        "  i+=1\n",
        "print(labels_f[0:2])\n",
        "\n"
      ],
      "metadata": {
        "id": "XNKkyD3pDO9n",
        "outputId": "0ce7d55c-fdaa-43e6-dad5-f947ebf9b46d",
        "colab": {
          "base_uri": "https://localhost:8080/"
        }
      },
      "execution_count": null,
      "outputs": [
        {
          "output_type": "stream",
          "name": "stdout",
          "text": [
            "[[[1.0], [0]], [[1.0], [0]]]\n"
          ]
        }
      ]
    },
    {
      "cell_type": "code",
      "source": [
        "labels_f =np.array(labels_f)\n",
        "labels_f.shape"
      ],
      "metadata": {
        "colab": {
          "base_uri": "https://localhost:8080/"
        },
        "id": "3P-BBjkR6WC5",
        "outputId": "0afce461-4f8e-49d8-8ac1-6ed9163d9b3d"
      },
      "execution_count": null,
      "outputs": [
        {
          "output_type": "execute_result",
          "data": {
            "text/plain": [
              "(23705, 2, 1)"
            ]
          },
          "metadata": {},
          "execution_count": 7
        }
      ]
    },
    {
      "cell_type": "code",
      "source": [
        "#Splitting the data taking data set\n",
        "import tensorflow as tf\n",
        "\n",
        "from sklearn.model_selection import train_test_split\n",
        "X_train, X_test, Y_train, Y_test= train_test_split(X,labels_f,test_size=0.25)\n",
        "\n",
        "print(X_test.shape)\n",
        "\n",
        "print(X_train.shape)\n",
        "Y_test=np.array(Y_test)\n",
        "print(Y_test.shape)\n",
        "Y_train=np.array(Y_train)\n",
        "print(Y_train.shape)\n"
      ],
      "metadata": {
        "colab": {
          "base_uri": "https://localhost:8080/"
        },
        "id": "ze87cSr76yJe",
        "outputId": "64efb302-2b46-4d5d-a6ac-6c21ce17c298"
      },
      "execution_count": null,
      "outputs": [
        {
          "output_type": "stream",
          "name": "stdout",
          "text": [
            "(5927, 48, 48)\n",
            "(17778, 48, 48)\n",
            "(5927, 2, 1)\n",
            "(17778, 2, 1)\n"
          ]
        }
      ]
    },
    {
      "cell_type": "code",
      "source": [
        "Y_train_2=[Y_train[:,1],Y_train[:,0]]\n",
        "Y_test_2=[Y_test[:,1],Y_test[:,0]]"
      ],
      "metadata": {
        "id": "96wdu5Np8Q3N"
      },
      "execution_count": null,
      "outputs": []
    },
    {
      "cell_type": "code",
      "source": [
        "\n",
        "#Model\n",
        "\n",
        "from tensorflow.keras.layers import Dropout\n",
        "\n",
        "from tensorflow.keras.layers import Flatten,BatchNormalization\n",
        "\n",
        "from tensorflow.keras.layers import Dense, MaxPooling2D,Conv2D\n",
        "\n",
        "from tensorflow.keras.layers import Input,Activation,Add\n",
        "\n",
        "from tensorflow.keras.models import Model\n",
        "\n",
        "from tensorflow.keras.regularizers import l2\n",
        "\n",
        "from tensorflow.keras.optimizers import Adam"
      ],
      "metadata": {
        "id": "ZWuo20iT8RUW"
      },
      "execution_count": null,
      "outputs": []
    },
    {
      "cell_type": "code",
      "source": [
        "def Convolution(input_tensor,filters):\n",
        "\n",
        "    x = Conv2D(filters=filters,kernel_size=(3, 3),padding = 'same',strides=(1, 1),kernel_regularizer=l2(0.001))(input_tensor)\n",
        "\n",
        "    x = Dropout(0.1)(x)\n",
        "\n",
        "    x= Activation('relu')(x)\n",
        "\n",
        "    return x"
      ],
      "metadata": {
        "id": "94Yv9Qx-9p5f"
      },
      "execution_count": null,
      "outputs": []
    },
    {
      "cell_type": "code",
      "source": [
        "def model(input_shape):\n",
        "\n",
        "  inputs = Input((input_shape))\n",
        "\n",
        "  conv_1= Convolution(inputs,32)\n",
        "\n",
        "  maxp_1 = MaxPooling2D(pool_size = (2,2)) (conv_1)\n",
        "\n",
        "  conv_2 = Convolution(maxp_1,64)\n",
        "\n",
        "  maxp_2 = MaxPooling2D(pool_size = (2, 2)) (conv_2)\n",
        "\n",
        "  conv_3 = Convolution(maxp_2,128)\n",
        "\n",
        "  maxp_3 = MaxPooling2D(pool_size = (2, 2)) (conv_3)\n",
        "\n",
        "  conv_4 = Convolution(maxp_3,256)\n",
        "\n",
        "  maxp_4 = MaxPooling2D(pool_size = (2, 2)) (conv_4)\n",
        "\n",
        "  flatten= Flatten() (maxp_4)\n",
        "\n",
        "  dense_1= Dense(64,activation='relu')(flatten)\n",
        "\n",
        "  dense_2= Dense(64,activation='relu')(flatten)\n",
        "\n",
        "  drop_1=Dropout(0.2)(dense_1)\n",
        "\n",
        "  drop_2=Dropout(0.2)(dense_2)\n",
        "\n",
        "  output_1= Dense(1,activation=\"sigmoid\",name='sex_out')(drop_1)\n",
        "\n",
        "  output_2= Dense(1,activation=\"relu\",name='age_out')(drop_2)\n",
        "\n",
        "  model = Model(inputs=[inputs], outputs=[output_1,output_2])\n",
        "\n",
        "  model.compile(loss=[\"binary_crossentropy\",\"mae\"], optimizer=\"Adam\",\n",
        "\n",
        "  metrics=[\"accuracy\"])\n",
        "\n",
        "  return model"
      ],
      "metadata": {
        "id": "kI_LQawa9zho"
      },
      "execution_count": null,
      "outputs": []
    },
    {
      "cell_type": "code",
      "source": [
        "Model=model((48,48,1))"
      ],
      "metadata": {
        "id": "8HkKiFYo-X8d"
      },
      "execution_count": null,
      "outputs": []
    },
    {
      "cell_type": "code",
      "source": [
        "Model.summary()"
      ],
      "metadata": {
        "colab": {
          "base_uri": "https://localhost:8080/"
        },
        "id": "TsKj-0qU-fmZ",
        "outputId": "c69bba25-84a7-45f1-b08f-23f51199a5e1"
      },
      "execution_count": null,
      "outputs": [
        {
          "output_type": "stream",
          "name": "stdout",
          "text": [
            "Model: \"model\"\n",
            "__________________________________________________________________________________________________\n",
            " Layer (type)                   Output Shape         Param #     Connected to                     \n",
            "==================================================================================================\n",
            " input_1 (InputLayer)           [(None, 48, 48, 1)]  0           []                               \n",
            "                                                                                                  \n",
            " conv2d (Conv2D)                (None, 48, 48, 32)   320         ['input_1[0][0]']                \n",
            "                                                                                                  \n",
            " dropout (Dropout)              (None, 48, 48, 32)   0           ['conv2d[0][0]']                 \n",
            "                                                                                                  \n",
            " activation (Activation)        (None, 48, 48, 32)   0           ['dropout[0][0]']                \n",
            "                                                                                                  \n",
            " max_pooling2d (MaxPooling2D)   (None, 24, 24, 32)   0           ['activation[0][0]']             \n",
            "                                                                                                  \n",
            " conv2d_1 (Conv2D)              (None, 24, 24, 64)   18496       ['max_pooling2d[0][0]']          \n",
            "                                                                                                  \n",
            " dropout_1 (Dropout)            (None, 24, 24, 64)   0           ['conv2d_1[0][0]']               \n",
            "                                                                                                  \n",
            " activation_1 (Activation)      (None, 24, 24, 64)   0           ['dropout_1[0][0]']              \n",
            "                                                                                                  \n",
            " max_pooling2d_1 (MaxPooling2D)  (None, 12, 12, 64)  0           ['activation_1[0][0]']           \n",
            "                                                                                                  \n",
            " conv2d_2 (Conv2D)              (None, 12, 12, 128)  73856       ['max_pooling2d_1[0][0]']        \n",
            "                                                                                                  \n",
            " dropout_2 (Dropout)            (None, 12, 12, 128)  0           ['conv2d_2[0][0]']               \n",
            "                                                                                                  \n",
            " activation_2 (Activation)      (None, 12, 12, 128)  0           ['dropout_2[0][0]']              \n",
            "                                                                                                  \n",
            " max_pooling2d_2 (MaxPooling2D)  (None, 6, 6, 128)   0           ['activation_2[0][0]']           \n",
            "                                                                                                  \n",
            " conv2d_3 (Conv2D)              (None, 6, 6, 256)    295168      ['max_pooling2d_2[0][0]']        \n",
            "                                                                                                  \n",
            " dropout_3 (Dropout)            (None, 6, 6, 256)    0           ['conv2d_3[0][0]']               \n",
            "                                                                                                  \n",
            " activation_3 (Activation)      (None, 6, 6, 256)    0           ['dropout_3[0][0]']              \n",
            "                                                                                                  \n",
            " max_pooling2d_3 (MaxPooling2D)  (None, 3, 3, 256)   0           ['activation_3[0][0]']           \n",
            "                                                                                                  \n",
            " flatten (Flatten)              (None, 2304)         0           ['max_pooling2d_3[0][0]']        \n",
            "                                                                                                  \n",
            " dense (Dense)                  (None, 64)           147520      ['flatten[0][0]']                \n",
            "                                                                                                  \n",
            " dense_1 (Dense)                (None, 64)           147520      ['flatten[0][0]']                \n",
            "                                                                                                  \n",
            " dropout_4 (Dropout)            (None, 64)           0           ['dense[0][0]']                  \n",
            "                                                                                                  \n",
            " dropout_5 (Dropout)            (None, 64)           0           ['dense_1[0][0]']                \n",
            "                                                                                                  \n",
            " sex_out (Dense)                (None, 1)            65          ['dropout_4[0][0]']              \n",
            "                                                                                                  \n",
            " age_out (Dense)                (None, 1)            65          ['dropout_5[0][0]']              \n",
            "                                                                                                  \n",
            "==================================================================================================\n",
            "Total params: 683,010\n",
            "Trainable params: 683,010\n",
            "Non-trainable params: 0\n",
            "__________________________________________________________________________________________________\n"
          ]
        }
      ]
    },
    {
      "cell_type": "code",
      "source": [
        "History=Model.fit(X_train,Y_train_2,batch_size=64,validation_data=(X_test,Y_test_2),epochs=5)"
      ],
      "metadata": {
        "colab": {
          "base_uri": "https://localhost:8080/"
        },
        "id": "720U79joMZDk",
        "outputId": "dafaa54c-daf1-4a63-9f91-bb13e1c0a7d2"
      },
      "execution_count": null,
      "outputs": [
        {
          "output_type": "stream",
          "name": "stdout",
          "text": [
            "Epoch 1/5\n",
            "278/278 [==============================] - 215s 763ms/step - loss: 16.7300 - sex_out_loss: 0.6979 - age_out_loss: 15.8613 - sex_out_accuracy: 0.5177 - age_out_accuracy: 0.0475 - val_loss: 18.9648 - val_sex_out_loss: 0.6887 - val_age_out_loss: 18.1252 - val_sex_out_accuracy: 0.5279 - val_age_out_accuracy: 0.0461\n",
            "Epoch 2/5\n",
            "278/278 [==============================] - 200s 719ms/step - loss: 14.0517 - sex_out_loss: 0.6584 - age_out_loss: 13.2062 - sex_out_accuracy: 0.5879 - age_out_accuracy: 0.0475 - val_loss: 12.4530 - val_sex_out_loss: 0.5834 - val_age_out_loss: 11.6384 - val_sex_out_accuracy: 0.7253 - val_age_out_accuracy: 0.0457\n",
            "Epoch 3/5\n",
            "278/278 [==============================] - 201s 722ms/step - loss: 12.0674 - sex_out_loss: 0.5831 - age_out_loss: 11.2347 - sex_out_accuracy: 0.6637 - age_out_accuracy: 0.0447 - val_loss: 14.3485 - val_sex_out_loss: 0.5456 - val_age_out_loss: 13.5389 - val_sex_out_accuracy: 0.7363 - val_age_out_accuracy: 0.0457\n",
            "Epoch 4/5\n",
            "278/278 [==============================] - 188s 676ms/step - loss: 11.2681 - sex_out_loss: 0.5568 - age_out_loss: 10.4331 - sex_out_accuracy: 0.6835 - age_out_accuracy: 0.0447 - val_loss: 14.6983 - val_sex_out_loss: 0.5280 - val_age_out_loss: 13.8801 - val_sex_out_accuracy: 0.7775 - val_age_out_accuracy: 0.0410\n",
            "Epoch 5/5\n",
            "278/278 [==============================] - 192s 688ms/step - loss: 10.5259 - sex_out_loss: 0.5264 - age_out_loss: 9.6966 - sex_out_accuracy: 0.7212 - age_out_accuracy: 0.0450 - val_loss: 15.7001 - val_sex_out_loss: 0.5104 - val_age_out_loss: 14.8762 - val_sex_out_accuracy: 0.7694 - val_age_out_accuracy: 0.0459\n"
          ]
        }
      ]
    },
    {
      "cell_type": "code",
      "source": [
        "Model.evaluate(X_test,Y_test_2)"
      ],
      "metadata": {
        "colab": {
          "base_uri": "https://localhost:8080/"
        },
        "id": "ho1CkHueMjZA",
        "outputId": "a9000598-0010-4d0a-aaa7-8d367836c0f9"
      },
      "execution_count": null,
      "outputs": [
        {
          "output_type": "stream",
          "name": "stdout",
          "text": [
            "186/186 [==============================] - 13s 68ms/step - loss: 15.7001 - sex_out_loss: 0.5104 - age_out_loss: 14.8762 - sex_out_accuracy: 0.7694 - age_out_accuracy: 0.0459\n"
          ]
        },
        {
          "output_type": "execute_result",
          "data": {
            "text/plain": [
              "[15.700106620788574,\n",
              " 0.5103938579559326,\n",
              " 14.876151084899902,\n",
              " 0.7693605422973633,\n",
              " 0.04589168354868889]"
            ]
          },
          "metadata": {},
          "execution_count": 17
        }
      ]
    },
    {
      "cell_type": "code",
      "source": [
        "pred=Model.predict(X_test)"
      ],
      "metadata": {
        "colab": {
          "base_uri": "https://localhost:8080/"
        },
        "id": "YVMSHFNlMtdr",
        "outputId": "5eca866c-fd11-43a1-c249-fc35080d2000"
      },
      "execution_count": null,
      "outputs": [
        {
          "output_type": "stream",
          "name": "stdout",
          "text": [
            "186/186 [==============================] - 13s 69ms/step\n"
          ]
        }
      ]
    },
    {
      "cell_type": "code",
      "source": [
        "def test_image(ind,X,Model):\n",
        "\n",
        "  plt.imshow(X[ind])\n",
        "\n",
        "  image_test=X[ind]\n",
        "\n",
        "  pred_1=Model.predict(np.array([image_test]))\n",
        "\n",
        "  sex_f=['Female','Male']\n",
        "\n",
        "  age=int(np.round(pred_1[1][0]))\n",
        "\n",
        "  sex=int(np.round(pred_1[0][0]))\n",
        "\n",
        "  print(\"Predicted Age: \"+ str(age))\n",
        "\n",
        "  print(\"Predicted Sex: \"+ sex_f[sex])"
      ],
      "metadata": {
        "id": "nX-NUcN0NMZT"
      },
      "execution_count": null,
      "outputs": []
    },
    {
      "cell_type": "code",
      "source": [
        "test_image(1980,X, Model)"
      ],
      "metadata": {
        "colab": {
          "base_uri": "https://localhost:8080/",
          "height": 483
        },
        "id": "q4nyAjChNR5w",
        "outputId": "01c2d290-3600-4c88-d571-aaaa02c777fd"
      },
      "execution_count": null,
      "outputs": [
        {
          "output_type": "stream",
          "name": "stdout",
          "text": [
            "1/1 [==============================] - 0s 32ms/step\n",
            "Predicted Age: 13\n",
            "Predicted Sex: Male\n"
          ]
        },
        {
          "output_type": "display_data",
          "data": {
            "text/plain": [
              "<Figure size 640x480 with 1 Axes>"
            ],
            "image/png": "[encoded data removed]"
          },
          "metadata": {}
        }
      ]
    },
    {
      "cell_type": "code",
      "source": [
        "test_image(2004,X, Model)"
      ],
      "metadata": {
        "colab": {
          "base_uri": "https://localhost:8080/",
          "height": 483
        },
        "id": "pNeNr_GFQ06X",
        "outputId": "7bea7a00-ab29-4354-b3b6-9585ed960c4e"
      },
      "execution_count": null,
      "outputs": [
        {
          "output_type": "stream",
          "name": "stdout",
          "text": [
            "1/1 [==============================] - 0s 29ms/step\n",
            "Predicted Age: 15\n",
            "Predicted Sex: Male\n"
          ]
        },
        {
          "output_type": "display_data",
          "data": {
            "text/plain": [
              "<Figure size 640x480 with 1 Axes>"
            ],
            "image/png": "[encoded data removed]"
          },
          "metadata": {}
        }
      ]
    }
  ]
}